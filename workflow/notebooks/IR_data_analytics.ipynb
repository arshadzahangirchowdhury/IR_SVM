{
 "cells": [
  {
   "cell_type": "code",
   "execution_count": null,
   "id": "7060c463",
   "metadata": {},
   "outputs": [],
   "source": [
    "#!/usr/bin/env python3\n",
    "# -*- coding: utf-8 -*-\n",
    "\"\"\"\n",
    "@author: M Arshad Zahangir Chowdhury\n",
    "\n",
    "Analytics for IR dataset\n",
    "\n",
    "\"\"\"\n",
    "\n",
    "%matplotlib inline \n",
    "\n",
    "import sys\n",
    "import os\n",
    "\n",
    "import matplotlib.pyplot as plt\n",
    "import numpy as np\n",
    "import pandas as pd\n",
    "from scipy import signal\n",
    "from ipywidgets import interactive\n",
    "import seaborn as sns  #heat map\n",
    "import glob # batch processing of images\n",
    "\n",
    "if '../../' not in sys.path:\n",
    "    sys.path.append('../../')\n",
    "\n",
    "from src.spectral_datasets.IR_datasets import IR_data\n",
    "\n",
    "from src.misc.analytics import plot_compound_counts\n",
    "from src.misc.analytics import plot_dataset_property\n",
    "from src.misc.analytics import load_exp_spectra"
   ]
  },
  {
   "cell_type": "markdown",
   "id": "3606ce30",
   "metadata": {},
   "source": [
    "## load IR spectra"
   ]
  },
  {
   "cell_type": "code",
   "execution_count": null,
   "id": "573aefa5",
   "metadata": {},
   "outputs": [],
   "source": [
    "s = IR_data(data_start = 400, data_end = 4000, resolution=1, verbosity = True)"
   ]
  },
  {
   "cell_type": "code",
   "execution_count": null,
   "id": "fb140acd",
   "metadata": {
    "scrolled": true
   },
   "outputs": [],
   "source": [
    "s.load_IR_data()"
   ]
  },
  {
   "cell_type": "markdown",
   "id": "a7b3c6d8",
   "metadata": {},
   "source": [
    "## attributes of the IR dataset"
   ]
  },
  {
   "cell_type": "code",
   "execution_count": null,
   "id": "a3ab9b61",
   "metadata": {},
   "outputs": [],
   "source": [
    "print('Number of Compounds:', s.n_compounds)\n",
    "print('Number of Spectrum:', s.n_spectrum)\n",
    "print('Total Number of Spectra:', s.n_spectra)\n",
    "print(\"Front trim :\", s.front_trim_amount)\n",
    "print(\"End trim :\", s.end_trim_amount)\n",
    "print('Data Start Input:',s.data_start)\n",
    "print('Data End Input:',s.data_end)           \n",
    "print('Sample Size of training data:', s.samplesize )\n",
    "print('Rows discarded:', s.n_discard_rows)\n",
    "print('Resolution (1/cm) = ', s.resolution)\n",
    "\n",
    "print('\\n labels of molecules present \\n', s.labels)\n",
    "print('\\n target indices (integers) of molecules present', s.targets)\n",
    "print('\\n frequencies present in the data \\n ', s.frequencies)"
   ]
  },
  {
   "cell_type": "markdown",
   "id": "6c774dc5",
   "metadata": {},
   "source": [
    "## visualize the IR spectra"
   ]
  },
  {
   "cell_type": "code",
   "execution_count": null,
   "id": "fd47df79",
   "metadata": {},
   "outputs": [],
   "source": [
    "def f_spectra(spectra_no):\n",
    "    plt.plot(s.frequencies, s.spectra[spectra_no]); #reshape needed so you have 367 datapoints.\n",
    "#     plt.ylim(-0.5, 5)\n",
    "    plt.grid(True)\n",
    "    plt.show()\n",
    "\n",
    "interactive_plot = interactive(f_spectra, spectra_no=(0, s.spectra.shape[0]-1))\n",
    "output = interactive_plot.children[-1]\n",
    "interactive_plot"
   ]
  },
  {
   "cell_type": "code",
   "execution_count": null,
   "id": "5a546380",
   "metadata": {},
   "outputs": [],
   "source": [
    "s.make_dataframe(s.spectra)\n",
    "spectraframe = s.spectraframe\n",
    "spectraframe['mean_abs'] = spectraframe.drop(labels=['labels','targets'],axis = 1).mean(axis = 0)\n",
    "spectraframe['norm_std_abs'] = spectraframe.drop(labels=['labels','targets'],axis = 1).std(axis = 0)/spectraframe.drop(labels=['labels','targets'],axis = 1).mean(axis = 0)\n",
    "spectraframe['norm_max_abs'] = spectraframe.drop(labels=['labels','targets'],axis = 1).max(axis = 0)/spectraframe.drop(labels=['labels','targets'],axis = 1).mean(axis = 0)"
   ]
  },
  {
   "cell_type": "markdown",
   "id": "f0167db3",
   "metadata": {},
   "source": [
    "# analytics for training and testing data"
   ]
  },
  {
   "cell_type": "code",
   "execution_count": null,
   "id": "8f31aa72",
   "metadata": {},
   "outputs": [],
   "source": [
    "X = s.spectra\n",
    "y = s.targets\n",
    "labels = s.labels\n",
    "n_compounds = s.n_compounds\n",
    "n_spectrum = s.n_spectrum\n",
    "n_spectra = s.n_compounds*s.n_spectrum\n",
    "samplesize = s.samplesize\n",
    "wavenumbers = s.frequencies"
   ]
  },
  {
   "cell_type": "code",
   "execution_count": null,
   "id": "24cf77c6",
   "metadata": {},
   "outputs": [],
   "source": [
    "from sklearn.model_selection import train_test_split\n",
    "TRAIN_SIZE=0.70\n",
    "TEST_SIZE=1-TRAIN_SIZE\n",
    "\n",
    "indices = np.arange(n_spectra)\n",
    "\n",
    "train_X, test_X, train_y, test_y, train_indices, test_indices = train_test_split(X, y, indices, train_size=TRAIN_SIZE,\n",
    "                                                   test_size=TEST_SIZE,\n",
    "                                                   random_state=123,\n",
    "                                                   stratify=y\n",
    "                                                   )\n",
    "\n",
    "print(\"All:\", np.bincount(y) / float(len(y))*100  )\n",
    "print(\"Training:\", np.bincount(train_y) / float(len(train_y))*100  )\n",
    "print(\"Testing:\", np.bincount(test_y) / float(len(test_y))*100  )\n",
    "\n"
   ]
  },
  {
   "cell_type": "code",
   "execution_count": null,
   "id": "c7eadcbd",
   "metadata": {},
   "outputs": [],
   "source": [
    "train_sf = spectraframe.iloc[train_indices].sort_index()\n",
    "test_sf = spectraframe.iloc[test_indices].sort_index()\n",
    "\n",
    "\n"
   ]
  },
  {
   "cell_type": "code",
   "execution_count": null,
   "id": "8adb5c97",
   "metadata": {
    "scrolled": false
   },
   "outputs": [],
   "source": [
    "plot_compound_counts(train_sf, 'Counts (Training Spectra)', color = 'red' )\n",
    "plot_compound_counts(test_sf, 'Counts (Testing Spectra)', color = 'blue' )\n",
    "plot_dataset_property(train_sf, \"norm_max_abs\", title = 'Normalized maximum absorbance (training Spectra)',  ylabel = 'Normalized maximum absorbance', color = 'red')\n",
    "plot_dataset_property(test_sf, \"norm_max_abs\", title = 'Normalized maximum absorbance (testing Spectra)',  ylabel = 'Normalized maximum absorbance', color = 'blue')\n",
    "# plot_dataset_property(train_sf, \"mean_abs\", title = 'Mean Absorbance (Training Spectra)',  ylabel = 'Mean Absorbance')\n",
    "# plot_dataset_property(test_sf, \"mean_abs\", title = 'Mean Absorbance (Test Spectra)',  ylabel = 'Mean Absorbance')\n",
    "plot_dataset_property(train_sf, \"norm_std_abs\", title = 'Normalized standard deviation absorbance (training Spectra)',  ylabel = 'Normalized standard deviation absorbance', color = 'red')\n",
    "plot_dataset_property(test_sf, \"norm_std_abs\", title = 'Normalized standard deviation absorbance (testing Spectra)',  ylabel = 'Normalized standard deviation absorbance', color = 'blue')\n"
   ]
  },
  {
   "cell_type": "markdown",
   "id": "7975ee98",
   "metadata": {},
   "source": [
    "# noisy simulated validation data\n"
   ]
  },
  {
   "cell_type": "code",
   "execution_count": null,
   "id": "b94940d4",
   "metadata": {},
   "outputs": [],
   "source": [
    "s.add_sinusoidal_noise()\n",
    "s.make_dataframe(s.val_sim_spectra)\n",
    "spectraframe = s.spectraframe\n",
    "spectraframe['mean_abs'] = spectraframe.drop(labels=['labels','targets'],axis = 1).mean(axis = 0)\n",
    "# spectraframe['std_abs'] = spectraframe.drop(labels=['labels','targets'],axis = 1).std(axis = 0)\n",
    "# spectraframe['max_abs'] = spectraframe.drop(labels=['labels','targets'],axis = 1).max(axis = 0)\n",
    "spectraframe['norm_std_abs'] = spectraframe.drop(labels=['labels','targets'],axis = 1).std(axis = 0)/spectraframe.drop(labels=['labels','targets'],axis = 1).mean(axis = 0)\n",
    "spectraframe['norm_max_abs'] = spectraframe.drop(labels=['labels','targets'],axis = 1).max(axis = 0)/spectraframe.drop(labels=['labels','targets'],axis = 1).mean(axis = 0)\n"
   ]
  },
  {
   "cell_type": "code",
   "execution_count": null,
   "id": "225ce599",
   "metadata": {
    "scrolled": false
   },
   "outputs": [],
   "source": [
    "spectraframe"
   ]
  },
  {
   "cell_type": "code",
   "execution_count": null,
   "id": "36259b22",
   "metadata": {},
   "outputs": [],
   "source": [
    "def f_spectra(spectra_no):\n",
    "    \n",
    "    plt.subplot(2,1,1)\n",
    "    plt.plot(s.frequencies, s.spectra[spectra_no]); #reshape needed so you have 367 datapoints.\n",
    "    plt.subplot(2,1,2)\n",
    "    plt.plot(s.frequencies, s.val_sim_spectra[spectra_no]); #reshape needed so you have 367 datapoints.\n",
    "#     plt.ylim(-0.5, 5)\n",
    "    plt.grid(True)\n",
    "    plt.show()\n",
    "\n",
    "interactive_plot = interactive(f_spectra, spectra_no=(0, s.spectra.shape[0]-1))\n",
    "output = interactive_plot.children[-1]\n",
    "interactive_plot"
   ]
  },
  {
   "cell_type": "code",
   "execution_count": null,
   "id": "b55269ec",
   "metadata": {
    "scrolled": false
   },
   "outputs": [],
   "source": [
    "plot_compound_counts(spectraframe, 'Counts (Validation Spectra)', color = 'green' )\n",
    "\n",
    "plot_dataset_property(spectraframe, \"norm_max_abs\", title = 'Normalized maximum absorbance (validation Spectra)',  ylabel = 'Normalized maximum absorbance', color = 'green')\n",
    "plot_dataset_property(spectraframe, \"norm_std_abs\", title = 'Normalized standard deviation absorbance (validation Spectra)',  ylabel = 'Normalized standard deviation absorbance', color = 'green')\n",
    "# plot_dataset_property(spectraframe, \"mean_abs\", title = 'Mean absorbance (validation Spectra)',  ylabel = 'Mean absorbance', color = 'green')\n",
    "\n"
   ]
  },
  {
   "cell_type": "code",
   "execution_count": null,
   "id": "36e4fc07",
   "metadata": {},
   "outputs": [],
   "source": []
  },
  {
   "cell_type": "markdown",
   "id": "d8f54eb6",
   "metadata": {},
   "source": [
    "## load IR data for pressure cross-validation, view attributes and visualize data"
   ]
  },
  {
   "cell_type": "code",
   "execution_count": null,
   "id": "f03e87bc",
   "metadata": {
    "scrolled": true
   },
   "outputs": [],
   "source": [
    "s = IR_data(data_start = 400, data_end = 4000, resolution=1, verbosity = True, cv_type = 'pressure')\n",
    "s.load_IR_data()"
   ]
  },
  {
   "cell_type": "code",
   "execution_count": null,
   "id": "4855fd6b",
   "metadata": {},
   "outputs": [],
   "source": [
    "print('Number of Compounds:', s.n_compounds)\n",
    "print('Number of Spectrum:', s.n_spectrum)\n",
    "print('Total Number of Spectra:', s.n_spectra)\n",
    "print(\"Front trim :\", s.front_trim_amount)\n",
    "print(\"End trim :\", s.end_trim_amount)\n",
    "print('Data Start Input:',s.data_start)\n",
    "print('Data End Input:',s.data_end)           \n",
    "print('Sample Size of training data:', s.samplesize )\n",
    "print('Rows discarded:', s.n_discard_rows)\n",
    "print('Resolution (1/cm) = ', s.resolution)\n",
    "\n",
    "print('\\n labels of molecules present \\n', s.labels)\n",
    "print('\\n target indices (integers) of molecules present', s.targets)\n",
    "print('\\n frequencies present in the data \\n ', s.frequencies)"
   ]
  },
  {
   "cell_type": "code",
   "execution_count": null,
   "id": "603f1180",
   "metadata": {},
   "outputs": [],
   "source": [
    "def f_spectra(spectra_no):\n",
    "    plt.plot(s.frequencies, s.spectra[spectra_no]); #reshape needed so you have 367 datapoints.\n",
    "#     plt.ylim(-0.5, 5)\n",
    "    plt.grid(True)\n",
    "    plt.show()\n",
    "\n",
    "interactive_plot = interactive(f_spectra, spectra_no=(0, s.spectra.shape[0]-1))\n",
    "output = interactive_plot.children[-1]\n",
    "interactive_plot"
   ]
  },
  {
   "cell_type": "code",
   "execution_count": null,
   "id": "172fb1f8",
   "metadata": {},
   "outputs": [],
   "source": [
    "s.make_dataframe(s.spectra)\n",
    "spectraframe = s.spectraframe\n",
    "spectraframe['mean_abs'] = spectraframe.drop(labels=['labels','targets'],axis = 1).mean(axis = 0)\n",
    "spectraframe['norm_std_abs'] = spectraframe.drop(labels=['labels','targets'],axis = 1).std(axis = 0)/spectraframe.drop(labels=['labels','targets'],axis = 1).mean(axis = 0)\n",
    "spectraframe['norm_max_abs'] = spectraframe.drop(labels=['labels','targets'],axis = 1).max(axis = 0)/spectraframe.drop(labels=['labels','targets'],axis = 1).mean(axis = 0)\n",
    "plot_compound_counts(spectraframe, 'Counts (cross-validation on pressure)', color = 'red' )\n",
    "\n",
    "plot_dataset_property(spectraframe, \"norm_max_abs\", title = 'Normalized maximum absorbance (cross-validation on pressure)',  ylabel = 'Normalized maximum absorbance', color = 'red')\n",
    "\n",
    "# plot_dataset_property(spectraframe, \"mean_abs\", title = 'Mean Absorbance (Training Spectra)',  ylabel = 'Mean Absorbance')\n",
    "plot_dataset_property(spectraframe, \"norm_std_abs\", title = 'Normalized standard deviation absorbance (cross-validation on pressure)',  ylabel = 'Normalized standard deviation absorbance', color = 'red')"
   ]
  },
  {
   "cell_type": "code",
   "execution_count": null,
   "id": "c2ff2a1c",
   "metadata": {},
   "outputs": [],
   "source": []
  },
  {
   "cell_type": "markdown",
   "id": "7f5bdc7f",
   "metadata": {},
   "source": [
    "## load IR data for concentration cross-validation, view attributes and visualize data"
   ]
  },
  {
   "cell_type": "code",
   "execution_count": null,
   "id": "4efb7504",
   "metadata": {
    "scrolled": true
   },
   "outputs": [],
   "source": [
    "s = IR_data(data_start = 400, data_end = 4000, resolution=1, verbosity = True, cv_type = 'concentration')\n",
    "s.load_IR_data()"
   ]
  },
  {
   "cell_type": "code",
   "execution_count": null,
   "id": "ac274c84",
   "metadata": {},
   "outputs": [],
   "source": [
    "print('Number of Compounds:', s.n_compounds)\n",
    "print('Number of Spectrum:', s.n_spectrum)\n",
    "print('Total Number of Spectra:', s.n_spectra)\n",
    "print(\"Front trim :\", s.front_trim_amount)\n",
    "print(\"End trim :\", s.end_trim_amount)\n",
    "print('Data Start Input:',s.data_start)\n",
    "print('Data End Input:',s.data_end)           \n",
    "print('Sample Size of training data:', s.samplesize )\n",
    "print('Rows discarded:', s.n_discard_rows)\n",
    "print('Resolution (1/cm) = ', s.resolution)\n",
    "\n",
    "print('\\n labels of molecules present \\n', s.labels)\n",
    "print('\\n target indices (integers) of molecules present', s.targets)\n",
    "print('\\n frequencies present in the data \\n ', s.frequencies)"
   ]
  },
  {
   "cell_type": "code",
   "execution_count": null,
   "id": "fcae9973",
   "metadata": {},
   "outputs": [],
   "source": [
    "s.make_dataframe(s.spectra)\n",
    "spectraframe = s.spectraframe\n",
    "spectraframe['mean_abs'] = spectraframe.drop(labels=['labels','targets'],axis = 1).mean(axis = 0)\n",
    "spectraframe['norm_std_abs'] = spectraframe.drop(labels=['labels','targets'],axis = 1).std(axis = 0)/spectraframe.drop(labels=['labels','targets'],axis = 1).mean(axis = 0)\n",
    "spectraframe['norm_max_abs'] = spectraframe.drop(labels=['labels','targets'],axis = 1).max(axis = 0)/spectraframe.drop(labels=['labels','targets'],axis = 1).mean(axis = 0)\n",
    "plot_compound_counts(spectraframe, 'Counts (cross-validation on concentration)', color = 'red' )\n",
    "\n",
    "plot_dataset_property(spectraframe, \"norm_max_abs\", title = 'Normalized maximum absorbance (cross-validation on concentration)',  ylabel = 'Normalized maximum absorbance', color = 'red')\n",
    "\n",
    "# plot_dataset_property(spectraframe, \"mean_abs\", title = 'Mean Absorbance (Training Spectra)',  ylabel = 'Mean Absorbance')\n",
    "plot_dataset_property(spectraframe, \"norm_std_abs\", title = 'Normalized standard deviation absorbance (cross-validation on concentration)',  ylabel = 'Normalized standard deviation absorbance', color = 'red')"
   ]
  },
  {
   "cell_type": "markdown",
   "id": "e17af6e2",
   "metadata": {},
   "source": [
    "# experimental data"
   ]
  },
  {
   "cell_type": "code",
   "execution_count": null,
   "id": "1dc565f0",
   "metadata": {},
   "outputs": [],
   "source": []
  },
  {
   "cell_type": "code",
   "execution_count": null,
   "id": "06a99d97",
   "metadata": {},
   "outputs": [],
   "source": [
    "path_exp = \"../../data/IR_Experimental_Data/\"\n",
    "\n",
    "freq_H2O, abs_H2O = load_exp_spectra(path_exp, 'H2O-4-NIST.xlsx')\n",
    "freq_CO2, abs_CO2 = load_exp_spectra(path_exp, 'CO2-4-NIST.xlsx')\n",
    "freq_CO, abs_CO = load_exp_spectra(path_exp, 'CO-4-NIST.xlsx')\n",
    "freq_N2O, abs_N2O = load_exp_spectra(path_exp, 'B_N2O-1-NIST.xlsx')\n",
    "\n",
    "freq_CH4, abs_CH4 = load_exp_spectra(path_exp, 'CH4-1.xlsx')\n",
    "freq_NO, abs_NO = load_exp_spectra(path_exp, 'B_NO-1-NIST.xlsx')\n",
    "freq_NH3, abs_NH3 = load_exp_spectra(path_exp, 'B_NH3-4.xlsx')\n",
    "freq_H2CO, abs_H2CO = load_exp_spectra(path_exp, 'H2COUnknown.xlsx')\n",
    "\n",
    "freq_CH3Cl, abs_CH3Cl = load_exp_spectra(path_exp, 'CH3CL.xlsx')\n",
    "freq_HBr, abs_HBr = load_exp_spectra(path_exp, 'HBr.xlsx')\n",
    "freq_OCS, abs_OCS = load_exp_spectra(path_exp, 'OCS.xlsx')\n",
    "freq_C2H2, abs_C2H2 = load_exp_spectra(path_exp, 'C2H2.xlsx')\n",
    "\n",
    "freq_C2H4, abs_C2H4 = load_exp_spectra(path_exp, 'C2H4.xlsx')\n",
    "freq_C2H6, abs_C2H6 = load_exp_spectra(path_exp, 'C2H6_upto_2400.xlsx')\n",
    "freq_SO2, abs_SO2 = load_exp_spectra(path_exp, 'SO2.xlsx')\n",
    "freq_O3, abs_O3 = load_exp_spectra(path_exp, 'O3-4.xlsx')\n",
    "\n",
    "freq_HCl, abs_HCl = load_exp_spectra(path_exp, 'HCl_25T_Full_Shift.xlsx')\n",
    "freq_H2S, abs_H2S = load_exp_spectra(path_exp, 'H2S.xlsx')\n",
    "freq_CH3Br, abs_CH3Br = load_exp_spectra(path_exp, 'CH3Br_Short.xlsx')\n",
    "freq_HC3N, abs_HC3N = load_exp_spectra(path_exp, 'HC3N.xlsx')\n",
    "\n"
   ]
  },
  {
   "cell_type": "code",
   "execution_count": null,
   "id": "a892a35c",
   "metadata": {},
   "outputs": [],
   "source": [
    "exp_means = [np.mean(abs_H2O),np.mean(abs_CO2),np.mean(abs_CO),np.mean(abs_N2O),\n",
    "np.mean(abs_CH4),np.mean(abs_NO),np.mean(abs_NH3),np.mean(abs_H2CO),\n",
    "np.mean(abs_CH3Cl),np.mean(abs_HBr),np.mean(abs_OCS),np.mean(abs_C2H2),\n",
    "np.mean(abs_C2H4),np.mean(abs_C2H6),np.mean(abs_SO2),np.mean(abs_O3),\n",
    "np.mean(abs_HCl),np.mean(abs_H2S),np.mean(abs_CH3Br),np.mean(abs_HC3N)]\n",
    "\n",
    "\n",
    "\n"
   ]
  },
  {
   "cell_type": "code",
   "execution_count": null,
   "id": "69f2875b",
   "metadata": {},
   "outputs": [],
   "source": [
    "exp_maxs = [np.max(abs_H2O),np.max(abs_CO2),np.max(abs_CO),np.max(abs_N2O),\n",
    "np.max(abs_CH4),np.max(abs_NO),np.max(abs_NH3),np.max(abs_H2CO),\n",
    "np.max(abs_CH3Cl),np.max(abs_HBr),np.max(abs_OCS),np.max(abs_C2H2),\n",
    "np.max(abs_C2H4),np.max(abs_C2H6),np.max(abs_SO2),np.max(abs_O3),\n",
    "np.max(abs_HCl),np.max(abs_H2S),np.max(abs_CH3Br),np.max(abs_HC3N)]\n"
   ]
  },
  {
   "cell_type": "code",
   "execution_count": null,
   "id": "46e71c47",
   "metadata": {},
   "outputs": [],
   "source": [
    "exp_stds = [np.std(abs_H2O),np.std(abs_CO2),np.std(abs_CO),np.std(abs_N2O),\n",
    "np.std(abs_CH4),np.std(abs_NO),np.std(abs_NH3),np.std(abs_H2CO),\n",
    "np.std(abs_CH3Cl),np.std(abs_HBr),np.std(abs_OCS),np.std(abs_C2H2),\n",
    "np.std(abs_C2H4),np.std(abs_C2H6),np.std(abs_SO2),np.std(abs_O3),\n",
    "np.std(abs_HCl),np.std(abs_H2S),np.std(abs_CH3Br),np.std(abs_HC3N)]\n",
    "\n",
    "\n",
    "\n"
   ]
  },
  {
   "cell_type": "code",
   "execution_count": null,
   "id": "6306c373",
   "metadata": {},
   "outputs": [],
   "source": [
    "exp_labels = ['H2O','CO2','CO','N2O',\n",
    "'CH4','NO','NH3','H2CO',\n",
    "'CH3Cl','HBr','OCS','C2H2',\n",
    "'C2H4','C2H6','SO2','O3',\n",
    "'HCl','H2S','CH3Br','HC3N']"
   ]
  },
  {
   "cell_type": "code",
   "execution_count": null,
   "id": "3eaa62a9",
   "metadata": {},
   "outputs": [],
   "source": [
    "exp_norm_max_abs =  np.array(exp_maxs)/np.array(exp_means)"
   ]
  },
  {
   "cell_type": "code",
   "execution_count": null,
   "id": "9aac1b9c",
   "metadata": {},
   "outputs": [],
   "source": [
    "exp_norm_std_abs =  np.array(exp_stds)/np.array(exp_means)"
   ]
  },
  {
   "cell_type": "code",
   "execution_count": null,
   "id": "b1e36e19",
   "metadata": {},
   "outputs": [],
   "source": []
  },
  {
   "cell_type": "code",
   "execution_count": null,
   "id": "7acb8096",
   "metadata": {},
   "outputs": [],
   "source": [
    "exp_df = pd.DataFrame()\n",
    "exp_df['mean_abs'] = exp_means\n",
    "exp_df['norm_max_abs'] = exp_norm_max_abs\n",
    "exp_df['norm_std_abs'] = exp_norm_std_abs\n",
    "exp_df['labels'] = exp_labels\n"
   ]
  },
  {
   "cell_type": "code",
   "execution_count": null,
   "id": "8ab3d387",
   "metadata": {},
   "outputs": [],
   "source": [
    "exp_df"
   ]
  },
  {
   "cell_type": "code",
   "execution_count": null,
   "id": "d3e61929",
   "metadata": {},
   "outputs": [],
   "source": [
    "plot_compound_counts(exp_df, title = 'counts (experimental spectra)', color = 'blue', save_to_file = True)"
   ]
  },
  {
   "cell_type": "code",
   "execution_count": null,
   "id": "3aa0fb91",
   "metadata": {},
   "outputs": [],
   "source": [
    "plot_dataset_property(exp_df, 'norm_max_abs', title = 'Normalized maximum absorbance (experimental spectra)',  ylabel = 'Normalized Maximum Absorbance', color = 'red', save_to_file = True)    \n",
    "plot_dataset_property(exp_df, 'norm_std_abs', title = 'Normalized standard deviation (experimental spectra)',  ylabel = 'Normalized Standard Deviation Absorbance', color = 'red', save_to_file = True)    "
   ]
  },
  {
   "cell_type": "markdown",
   "id": "f1cf05fc",
   "metadata": {},
   "source": [
    "## notebook ends"
   ]
  }
 ],
 "metadata": {
  "kernelspec": {
   "display_name": "Python 3 (ipykernel)",
   "language": "python",
   "name": "python3"
  },
  "language_info": {
   "codemirror_mode": {
    "name": "ipython",
    "version": 3
   },
   "file_extension": ".py",
   "mimetype": "text/x-python",
   "name": "python",
   "nbconvert_exporter": "python",
   "pygments_lexer": "ipython3",
   "version": "3.8.8"
  }
 },
 "nbformat": 4,
 "nbformat_minor": 5
}
