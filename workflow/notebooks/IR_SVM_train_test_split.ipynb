{
 "cells": [
  {
   "cell_type": "code",
   "execution_count": null,
   "metadata": {},
   "outputs": [],
   "source": [
    "#!/usr/bin/env python3\n",
    "# -*- coding: utf-8 -*-\n",
    "\"\"\"\n",
    "@author: M Arshad Zahangir Chowdhury\n",
    "\n",
    "SVM implementations, cross-validations, 70%-30% train-test and experimental recognition in IR range.\n",
    "\n",
    "\"\"\"\n",
    "\n",
    "%matplotlib inline \n",
    "\n",
    "import sys\n",
    "import os\n",
    "\n",
    "import matplotlib.pyplot as plt\n",
    "import numpy as np\n",
    "import pandas as pd\n",
    "from scipy import signal\n",
    "from ipywidgets import interactive\n",
    "import seaborn as sns  \n",
    "import glob \n",
    "\n",
    "if '../../' not in sys.path:\n",
    "    sys.path.append('../../')\n",
    "\n",
    "from src.spectral_datasets.IR_datasets import IR_data\n",
    "\n",
    "\n",
    "from src.misc.utils import *\n",
    "\n",
    "import datetime\n",
    "\n",
    "from sklearn.metrics import accuracy_score\n",
    "from sklearn.metrics import precision_score\n",
    "from sklearn.metrics import recall_score\n",
    "from sklearn.metrics import f1_score\n",
    "from sklearn.metrics import confusion_matrix\n",
    "from sklearn.metrics import classification_report\n",
    "\n",
    "from sklearn.model_selection import train_test_split\n",
    "from sklearn.model_selection import KFold\n",
    "from sklearn.model_selection import StratifiedKFold\n",
    "from sklearn.model_selection import GroupKFold\n",
    "\n",
    "\n",
    "from sklearn import svm\n",
    "from sklearn.svm import SVC\n",
    "from sklearn.multiclass import OneVsRestClassifier \n",
    "\n",
    "from scipy import interpolate\n",
    "from sys import getsizeof\n",
    "\n",
    "path_exp = \"../../data/IR_Experimental_Data/\""
   ]
  },
  {
   "cell_type": "markdown",
   "metadata": {},
   "source": [
    "## load IR spectra and view attributes"
   ]
  },
  {
   "cell_type": "code",
   "execution_count": null,
   "metadata": {
    "scrolled": true
   },
   "outputs": [],
   "source": [
    "# Tunable frequency range, change data start and end location\n",
    "s = IR_data(data_start = 400, data_end = 4000, resolution=1, verbosity = True)\n",
    "s.load_IR_data()\n",
    "s.dataset_info()\n"
   ]
  },
  {
   "cell_type": "code",
   "execution_count": null,
   "metadata": {},
   "outputs": [],
   "source": [
    "X = s.spectra\n",
    "y = s.targets\n",
    "labels = s.labels\n",
    "n_compounds = s.n_compounds\n",
    "n_spectrum = s.n_spectrum\n",
    "n_spectra = s.n_compounds*s.n_spectrum\n",
    "samplesize = s.samplesize\n",
    "wavenumbers = s.frequencies\n",
    "print('shape of features:', X.shape)\n",
    "print('shape of labels:', y.shape)"
   ]
  },
  {
   "cell_type": "markdown",
   "metadata": {},
   "source": [
    "## 70%-30% train-test split for classifiers SVM classifier with linear and RBF kernel"
   ]
  },
  {
   "cell_type": "code",
   "execution_count": null,
   "metadata": {},
   "outputs": [],
   "source": [
    "TRAIN_SIZE=0.70\n",
    "TEST_SIZE=1-TRAIN_SIZE\n",
    "\n",
    "train_X, test_X, train_y, test_y = train_test_split(X, y, train_size=TRAIN_SIZE,\n",
    "                                                   test_size=TEST_SIZE,\n",
    "                                                   random_state=123,\n",
    "                                                   stratify=y\n",
    "                                                   )\n",
    "\n",
    "print(\"All:\", np.bincount(y) / float(len(y))*100  )\n",
    "print(\"Training:\", np.bincount(train_y) / float(len(train_y))*100  )\n",
    "print(\"Testing:\", np.bincount(test_y) / float(len(test_y))*100  )\n"
   ]
  },
  {
   "cell_type": "code",
   "execution_count": null,
   "metadata": {},
   "outputs": [],
   "source": [
    "indices = np.arange(n_spectra)\n",
    "\n",
    "train_X, test_X, train_y, test_y, train_indices, test_indices = train_test_split(X, y, indices, train_size=TRAIN_SIZE,\n",
    "                                                   test_size=TEST_SIZE,\n",
    "                                                   random_state=123,\n",
    "                                                   stratify=y\n",
    "                                                   )\n"
   ]
  },
  {
   "cell_type": "code",
   "execution_count": null,
   "metadata": {},
   "outputs": [],
   "source": [
    "#OneVsRest (SVM-Linear Kernel)\n",
    "\n",
    "#Measure time elapsed\n",
    "t_start = datetime.datetime.now()\n",
    "\n",
    "classifier_OVR = OneVsRestClassifier(SVC(kernel='linear',C = 500,decision_function_shape = 'ovo',random_state=1)).fit(train_X, train_y)\n",
    "\n",
    "\n",
    "\n",
    "pred_y = classifier_OVR.predict(test_X)\n",
    "\n",
    "\n",
    "FCA_OVR=np.sum(pred_y == test_y) / float(len(test_y))\n",
    "print(\"Fraction Correct[Accuracy]:\", FCA_OVR)\n",
    "\n",
    "\n",
    "cm_OVR = confusion_matrix(test_y, pred_y)\n",
    "plt.rc('font', weight='bold')\n",
    "fig = plt.figure(figsize=(16,10));\n",
    "ax = sns.heatmap(cm_OVR,linewidths=2, annot=True, cmap='RdPu');  \n",
    "\n",
    "ax.set_xticklabels(labels);\n",
    "ax.set_yticklabels(labels);\n",
    "plt.xlabel('Predicted Molecule',fontsize='medium', fontweight='bold');\n",
    "plt.ylabel('Actual Moelcule',fontsize='medium', fontweight='bold');\n",
    "plt.xticks(rotation=90);\n",
    "plt.yticks(rotation=0);\n",
    "plt.title('Linear Kernel, C = 500, Accuracy={0:0.2f}%\\n'.format(FCA_OVR*100), fontsize='medium', fontweight='bold');\n",
    "# fig.savefig('RESULTS/Linear Kernel.png', bbox_inches='tight',dpi=300)\n",
    "\n",
    "\n",
    "print(classification_report(test_y, pred_y))\n",
    "\n",
    "t_end = datetime.datetime.now()\n",
    "delta = t_end - t_start\n",
    "Time_OVR=delta.total_seconds() * 1000\n",
    "\n",
    "print('Time elaspsed: ', Time_OVR) # milliseconds"
   ]
  },
  {
   "cell_type": "code",
   "execution_count": null,
   "metadata": {},
   "outputs": [],
   "source": [
    "#OneVsRest (SVM-rbf Kernel)\n",
    "\n",
    "#Measure time elapsed\n",
    "import datetime\n",
    "t_start = datetime.datetime.now()\n",
    "\n",
    "classifier_OVR = OneVsRestClassifier(SVC(kernel='rbf',C = 500,decision_function_shape = 'ovo',random_state=1)).fit(train_X, train_y)\n",
    "\n",
    "pred_y = classifier_OVR.predict(test_X)\n",
    "\n",
    "\n",
    "FCA_OVR=np.sum(pred_y == test_y) / float(len(test_y))\n",
    "print(\"Fraction Correct[Accuracy]:\", FCA_OVR)\n",
    "\n",
    "\n",
    "cm_OVR = confusion_matrix(test_y, pred_y)\n",
    "plt.rc('font', weight='bold')\n",
    "fig = plt.figure(figsize=(16,10));\n",
    "\n",
    "ax = sns.heatmap(cm_OVR,linewidths=2, annot=True, cmap='Greens');  \n",
    "\n",
    "ax.set_xticklabels(labels);\n",
    "ax.set_yticklabels(labels);\n",
    "plt.xlabel('Predicted Molecule',fontsize='medium', fontweight='bold');\n",
    "plt.ylabel('Actual Moelcule',fontsize='medium', fontweight='bold');\n",
    "plt.xticks(rotation=90);\n",
    "plt.yticks(rotation=0);\n",
    "plt.title('Radial Basis Function Kernel, C = 500, Accuracy={0:0.2f}%\\n'.format(FCA_OVR*100), fontsize='medium', fontweight='bold');\n",
    "# fig.savefig('RESULTS/RBF Kernel.png', bbox_inches='tight',dpi=300)\n",
    "\n",
    "print(classification_report(test_y, pred_y))\n",
    "\n",
    "t_end = datetime.datetime.now()\n",
    "delta = t_end - t_start\n",
    "Time_OVR=delta.total_seconds() * 1000\n",
    "\n",
    "print('Time elaspsed: ', Time_OVR) # milliseconds"
   ]
  },
  {
   "cell_type": "markdown",
   "metadata": {},
   "source": [
    "## notebook ends"
   ]
  }
 ],
 "metadata": {
  "kernelspec": {
   "display_name": "Python 3 (ipykernel)",
   "language": "python",
   "name": "python3"
  },
  "language_info": {
   "codemirror_mode": {
    "name": "ipython",
    "version": 3
   },
   "file_extension": ".py",
   "mimetype": "text/x-python",
   "name": "python",
   "nbconvert_exporter": "python",
   "pygments_lexer": "ipython3",
   "version": "3.8.8"
  }
 },
 "nbformat": 4,
 "nbformat_minor": 2
}
